{
 "cells": [
  {
   "cell_type": "code",
   "execution_count": 1,
   "id": "e68db8c7-cc7c-48cf-8cd7-0ef322ebf710",
   "metadata": {},
   "outputs": [],
   "source": [
    "import pandas as pd\n",
    "import numpy as np\n",
    "import plotly.express as px\n",
    "from scipy import stats\n",
    "import pingouin as pg"
   ]
  },
  {
   "cell_type": "code",
   "execution_count": 2,
   "id": "be8883ab-9591-4a70-8797-3ce16492dde5",
   "metadata": {},
   "outputs": [],
   "source": [
    "data = pd.read_csv('experiment_lesson_4.csv')"
   ]
  },
  {
   "cell_type": "markdown",
   "id": "85893b8b-cd61-43f4-965a-319fcd633f72",
   "metadata": {},
   "source": [
    "#### Критерий Стьюдента для независимых выборок"
   ]
  },
  {
   "cell_type": "markdown",
   "id": "2cdaf6f0-f15a-461c-b385-f0009a76d460",
   "metadata": {},
   "source": [
    "$ X_1, ... , X_n;\\ Y_1, ... , Y_n \\ – \\ независимые \\ наблюдения $\n",
    "\n",
    "$E[X_i] = µ_x,\\ E[Y_i] = µ_y $\n",
    "\n",
    "µ = µ₀\n",
    "\n",
    "Формулировка гипотез:\n",
    "\n",
    "$H_0: µ_x = µ_y $  \n",
    "\n",
    "$H_A: µ_x > µ_y $"
   ]
  },
  {
   "cell_type": "code",
   "execution_count": 7,
   "id": "d9f3af8f-f010-4f38-a9bb-ece9b0f37e3e",
   "metadata": {},
   "outputs": [
    {
     "name": "stdout",
     "output_type": "stream",
     "text": [
      "Statistic:  43.035826618237536 , p-value:  0.0\n"
     ]
    }
   ],
   "source": [
    "df = data.copy()\n",
    "x = df[df[\"experiment_group\"]==\"control\"]\n",
    "x = x[\"delivery_time\"]\n",
    "y = df[df[\"experiment_group\"]==\"test\"]\n",
    "y = y[\"delivery_time\"]\n",
    "\n",
    "m = len(y)\n",
    "n = len(x)\n",
    "s2x = x.var()\n",
    "s2y = y.var()\n",
    "\n",
    "T = (x.mean() - y.mean())/(s2x/m + s2y/n)**0.5\n",
    "\n",
    "df = round( (s2x/m + s2y/n)**2 / ( (s2x/m)**2/(m-1) + (s2y/n)**2/(n-1) ))\n",
    "St = stats.t(df)\n",
    "\n",
    "P = 1 - St.cdf(T)\n",
    "print(\"Statistic: \",T,\", p-value: \",P)"
   ]
  },
  {
   "cell_type": "markdown",
   "id": "97ef44a5-eb84-4b35-bf33-0c2f7d881d8a",
   "metadata": {},
   "source": [
    "#### Среднее значение для контрольной группы"
   ]
  },
  {
   "cell_type": "code",
   "execution_count": 8,
   "id": "08c623d1-c3d0-4d7e-b98a-216e73a6408e",
   "metadata": {},
   "outputs": [
    {
     "data": {
      "text/plain": [
       "45.065101070154576"
      ]
     },
     "execution_count": 8,
     "metadata": {},
     "output_type": "execute_result"
    }
   ],
   "source": [
    "df = data.copy()\n",
    "df = df[df[\"experiment_group\"]==\"control\"]\n",
    "df = df[\"delivery_time\"]\n",
    "control_mean = np.mean(df)\n",
    "control_mean"
   ]
  },
  {
   "cell_type": "markdown",
   "id": "0755bf98-0bc4-4d2a-b813-a712994955c9",
   "metadata": {},
   "source": [
    "#### Среднее значение для тестовой группы"
   ]
  },
  {
   "cell_type": "code",
   "execution_count": 9,
   "id": "531ffd85-b457-48c2-9fb1-ae54d7a3d0c0",
   "metadata": {},
   "outputs": [
    {
     "data": {
      "text/plain": [
       "39.04681314330958"
      ]
     },
     "execution_count": 9,
     "metadata": {},
     "output_type": "execute_result"
    }
   ],
   "source": [
    "df = data.copy()\n",
    "df = df[df[\"experiment_group\"]==\"test\"]\n",
    "df = df[\"delivery_time\"]\n",
    "test_mean = np.mean(df)\n",
    "test_mean"
   ]
  },
  {
   "cell_type": "markdown",
   "id": "cbcef2ab-2f5a-4711-8a00-d41d281b596c",
   "metadata": {},
   "source": [
    "## Выводы"
   ]
  },
  {
   "cell_type": "markdown",
   "id": "cd6fb0b5-c243-48fc-bd15-2bb099c87c90",
   "metadata": {},
   "source": [
    "#### В научном формате:"
   ]
  },
  {
   "cell_type": "markdown",
   "id": "7feb7938-0d15-47c3-b4cd-7a5b6ea8d1b8",
   "metadata": {},
   "source": [
    "Статистический анализ среднего времени доставки показал, что новая фича \"по пути\" демонстрирует статистически значимое улучшение показателей времени доставки.\n",
    "\n",
    "По итогу проведения статистического эксперимента был получен результат t-критерия Стьюдента = 0, что сильно меньше, чем выбранный уровень значимости 0.05; гипотеза о равенстве среднего времени доставки с использованием опции \"по пути\" и без нее отверглась в пользу гипотезы о том, что среднее время доставки без использования опции \"по пути\" больше чем с ней. \n",
    "\n",
    "На основании полученных данных рекомендуется расширить использование новой фичи \"по пути\" на всех курьеров."
   ]
  },
  {
   "cell_type": "markdown",
   "id": "b3e856df-2305-44b0-8088-815c45003d6f",
   "metadata": {},
   "source": [
    "#### В формате, понятном человеку, который не является специалистом в статистике:"
   ]
  },
  {
   "cell_type": "markdown",
   "id": "30b6ee19-0b79-4e85-b58d-8283fa10860e",
   "metadata": {},
   "source": [
    "Результат статистического анализа показал, что среднее время доставки группы, которая использовала старый алгоритм, больше, чем использовавшей новый алгоритм с опцией \"по пути\". То есть курьеры, пользующиеся новой фичей \"по пути\" доставляют заказы быстрее.\n",
    "\n",
    "Рекомендуем распространить новую фичу \"по пути\" на всех курьеров."
   ]
  },
  {
   "cell_type": "code",
   "execution_count": null,
   "id": "47c07924-bf5e-4145-ac11-4cfd3ef6a571",
   "metadata": {},
   "outputs": [],
   "source": []
  }
 ],
 "metadata": {
  "kernelspec": {
   "display_name": "Python 3 (ipykernel)",
   "language": "python",
   "name": "python3"
  },
  "language_info": {
   "codemirror_mode": {
    "name": "ipython",
    "version": 3
   },
   "file_extension": ".py",
   "mimetype": "text/x-python",
   "name": "python",
   "nbconvert_exporter": "python",
   "pygments_lexer": "ipython3",
   "version": "3.12.4"
  }
 },
 "nbformat": 4,
 "nbformat_minor": 5
}

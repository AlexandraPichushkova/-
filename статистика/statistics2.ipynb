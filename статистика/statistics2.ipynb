{
 "cells": [
  {
   "cell_type": "code",
   "execution_count": 9,
   "id": "3f487f4e-d6fd-4839-b134-a26fd65aa7a4",
   "metadata": {},
   "outputs": [],
   "source": [
    "import numpy as np\n",
    "from scipy import stats"
   ]
  },
  {
   "cell_type": "markdown",
   "id": "3c964902-123a-4467-8a5d-a20eeedafb49",
   "metadata": {},
   "source": [
    "### Задача 1"
   ]
  },
  {
   "cell_type": "markdown",
   "id": "02562bd0-8e9b-4dec-8aec-b30355dfba57",
   "metadata": {},
   "source": [
    "$ X_1, … , X_n\\ –\\ наблюдения $\n",
    "\n",
    "$ Предполагается, что\\ E[X_0] = µ $\n",
    "\n",
    "$ µ = µ_0 $\n",
    "\n",
    "Формулировка гипотез:\n",
    "\n",
    "$ H_0: µ = µ_0 $\n",
    "\n",
    "$ H_A: µ \\neq  µ_0 $\n"
   ]
  },
  {
   "cell_type": "code",
   "execution_count": 10,
   "id": "ed3af4b8-fe82-4518-a6d9-f1e9094122e4",
   "metadata": {},
   "outputs": [],
   "source": [
    "sample = np.array([12.9, 11.6, 13.5, 13.9, 12.1, 11.9, 13.0])\n",
    "mu0 = 12"
   ]
  },
  {
   "cell_type": "code",
   "execution_count": 11,
   "id": "3e4ca3ed-2340-4183-9530-88044da1feb5",
   "metadata": {},
   "outputs": [
    {
     "data": {
      "text/plain": [
       "TtestResult(statistic=2.1578017974978794, pvalue=0.07430190210562303, df=6)"
      ]
     },
     "execution_count": 11,
     "metadata": {},
     "output_type": "execute_result"
    }
   ],
   "source": [
    "t_statistic, p_value = stats.ttest_1samp(sample, mu0)\n",
    "stats.ttest_1samp(sample, mu0)"
   ]
  },
  {
   "cell_type": "code",
   "execution_count": 12,
   "id": "e8d13211-9705-4dd3-975a-fe5e3ea482ec",
   "metadata": {},
   "outputs": [
    {
     "name": "stdout",
     "output_type": "stream",
     "text": [
      "Не отвергаем нулевую гипотезу: можно считать, что среднее напряжение равно 12 В.\n"
     ]
    }
   ],
   "source": [
    "alpha = 0.05\n",
    "if p_value < alpha:\n",
    "    print(\"Отвергаем нулевую гипотезу: нельзя считать, что среднее напряжение равно 12 В.\")\n",
    "else:\n",
    "    print(\"Не отвергаем нулевую гипотезу: можно считать, что среднее напряжение равно 12 В.\")"
   ]
  },
  {
   "cell_type": "markdown",
   "id": "58340cef-7ed2-46a1-b209-1ef166ed7d43",
   "metadata": {},
   "source": [
    "### Задача 2"
   ]
  },
  {
   "cell_type": "markdown",
   "id": "063fe5c7-ae93-4c7d-ba52-5650165ce239",
   "metadata": {},
   "source": [
    "$ X_1, ... , X_n;\\ Y_1, ... , Y_n \\ – \\ парные \\ наблюдения $\n",
    "\n",
    "$E[X_i] = µ_x,\\ E[Y_i] = µ_y $\n",
    "\n",
    "µ = µ₀\n",
    "\n",
    "Формулировка гипотез:\n",
    "\n",
    "$H_0: µ_x = µ_y $  \n",
    "\n",
    "$H_A: µ_x \\neq µ_y $"
   ]
  },
  {
   "cell_type": "code",
   "execution_count": 13,
   "id": "15d970fd-26df-4a7b-be97-24d4b710d11b",
   "metadata": {},
   "outputs": [],
   "source": [
    "method1 = np.array([23.1, 23.2, 26.5, 26.6, 27.1, 48.3, 40.5, 25.0, 38.4, 23.5])\n",
    "method2 = np.array([22.7, 23.6, 27.1, 27.4, 27.4, 46.8, 40.4, 24.9, 38.1, 23.8])"
   ]
  },
  {
   "cell_type": "code",
   "execution_count": 14,
   "id": "3e7c5a12-7a61-430b-adc8-781744e1fc01",
   "metadata": {},
   "outputs": [
    {
     "data": {
      "text/plain": [
       "array([-0.4,  0.4,  0.6,  0.8,  0.3, -1.5, -0.1, -0.1, -0.3,  0.3])"
      ]
     },
     "execution_count": 14,
     "metadata": {},
     "output_type": "execute_result"
    }
   ],
   "source": [
    "mu0 = 0\n",
    "diff = method2-method1\n",
    "diff"
   ]
  },
  {
   "cell_type": "code",
   "execution_count": 15,
   "id": "2025b295-96f2-4264-a1b6-5ca5e61c73cf",
   "metadata": {},
   "outputs": [
    {
     "data": {
      "text/plain": [
       "TtestResult(statistic=-1.7154884978678027e-15, pvalue=0.9999999999999987, df=9)"
      ]
     },
     "execution_count": 15,
     "metadata": {},
     "output_type": "execute_result"
    }
   ],
   "source": [
    "t_statistic, p_value = stats.ttest_1samp(diff, mu0)\n",
    "stats.ttest_1samp(diff, mu0)"
   ]
  },
  {
   "cell_type": "code",
   "execution_count": 16,
   "id": "e53b8f50-9c58-4910-bd37-e70d2242965e",
   "metadata": {},
   "outputs": [
    {
     "name": "stdout",
     "output_type": "stream",
     "text": [
      "Не отвергаем нулевую гипотезу: методы дают в среднем одинаковые показания\n"
     ]
    }
   ],
   "source": [
    "alpha = 0.05\n",
    "if p_value < alpha:\n",
    "    print(\"Отвергаем нулевую гипотезу: один метод даёт в среднем более высокие показания, чем другой\")\n",
    "else:\n",
    "    print(\"Не отвергаем нулевую гипотезу: методы дают в среднем одинаковые показания\")"
   ]
  },
  {
   "cell_type": "markdown",
   "id": "baa2abf2-9845-43c9-8607-bc29d9b014cd",
   "metadata": {},
   "source": [
    "### Задача 3"
   ]
  },
  {
   "cell_type": "markdown",
   "id": "98ba125d-f020-4eb7-9e7d-825433cdf8ab",
   "metadata": {},
   "source": [
    "$ C_1, ... , C_n;\\ V_1, ... , V_m \\ – \\ независимые \\ наблюдения $\n",
    "\n",
    "$E[C_i] = µ_c,\\ E[V_i] = µ_v $\n",
    "\n",
    "µ = µ₀\n",
    "\n",
    "Формулировка гипотез:\n",
    "\n",
    "$H_0: µ_c = µ_v $  \n",
    "\n",
    "$H_A: µ_c > µ_v $"
   ]
  },
  {
   "cell_type": "code",
   "execution_count": 17,
   "id": "1e1d52e3-7abc-422c-8bec-50f8969627e7",
   "metadata": {},
   "outputs": [],
   "source": [
    "cityzens = np.array([132, 111, 119, 138, 200, 131, 138, 170, 159, 140])\n",
    "villagers = np.array([115, 190, 127, 155, 148, 121, 116, 121, 197])"
   ]
  },
  {
   "cell_type": "code",
   "execution_count": 18,
   "id": "aaa9de04-0db5-4975-8269-b01bce2f9d1d",
   "metadata": {},
   "outputs": [
    {
     "data": {
      "text/plain": [
       "TtestResult(statistic=0.035165199049777565, pvalue=0.486178812200461, df=17.0)"
      ]
     },
     "execution_count": 18,
     "metadata": {},
     "output_type": "execute_result"
    }
   ],
   "source": [
    "t_statistic, p_value = stats.ttest_ind(cityzens, villagers, alternative='greater')\n",
    "stats.ttest_ind(cityzens, villagers, alternative='greater')\n"
   ]
  },
  {
   "cell_type": "code",
   "execution_count": 19,
   "id": "614798d9-8b8e-417b-98fe-15b79d6854d1",
   "metadata": {},
   "outputs": [
    {
     "name": "stdout",
     "output_type": "stream",
     "text": [
      "Не отвергаем нулевую гипотезу: среднее систолическое артериальное давление у горожан и у селян одинаково.\n"
     ]
    }
   ],
   "source": [
    "alpha = 0.05\n",
    "if p_value < alpha:\n",
    "    print(\"Отвергаем нулевую гипотезу: среднее систолическое артериальное давление у горожан выше, чем у селян.\")\n",
    "else:\n",
    "    print(\"Не отвергаем нулевую гипотезу: среднее систолическое артериальное давление у горожан и у селян одинаково.\")"
   ]
  },
  {
   "cell_type": "markdown",
   "id": "99223b0e-2b58-4bcd-a38a-366316d68d8a",
   "metadata": {},
   "source": [
    "### Задача 4"
   ]
  },
  {
   "cell_type": "markdown",
   "id": "ce32fffc-7930-473d-a1ec-deb6b2ceb31f",
   "metadata": {},
   "source": [
    "n - размер выборки\n",
    "\n",
    "m - количество мужчин в выборке\n",
    "\n",
    "p - ожидаемая доля мужчин\n",
    "\n",
    "Формулировка гипотез:\n",
    "\n",
    "$H_0: p = p_0 $  \n",
    "\n",
    "$H_A: p \\neq p_0 $"
   ]
  },
  {
   "cell_type": "code",
   "execution_count": 20,
   "id": "d8dd6c88-0c49-41e1-aab8-a41e76bffd48",
   "metadata": {},
   "outputs": [],
   "source": [
    "n = 5000\n",
    "men = 2500\n",
    "p0 = 0.52"
   ]
  },
  {
   "cell_type": "code",
   "execution_count": 21,
   "id": "fcf3d720-0ee2-41dd-97e7-8fe4e96bacb6",
   "metadata": {},
   "outputs": [
    {
     "name": "stdout",
     "output_type": "stream",
     "text": [
      "p-значение: 0.004849502159545284\n"
     ]
    }
   ],
   "source": [
    "p_value = stats.binomtest(men, n, p0).pvalue\n",
    "print(f\"p-значение: {p_value}\")"
   ]
  },
  {
   "cell_type": "code",
   "execution_count": 22,
   "id": "bc3b66c5-403b-4c65-9a52-f1c6eb91e81f",
   "metadata": {},
   "outputs": [
    {
     "name": "stdout",
     "output_type": "stream",
     "text": [
      "Отвергаем нулевую гипотезу: смертность мужчин и женщин не одинакова.\n"
     ]
    }
   ],
   "source": [
    "alpha = 0.05\n",
    "if p_value < alpha:\n",
    "    print(\"Отвергаем нулевую гипотезу: смертность мужчин и женщин не одинакова.\")\n",
    "else:\n",
    "    print(\"Не отвергаем нулевую гипотезу: смертность мужчин и женщин одинакова.\")"
   ]
  },
  {
   "cell_type": "markdown",
   "id": "66f4eceb-a56e-4bd1-95d4-a433c3b32fe5",
   "metadata": {},
   "source": [
    "### Задача 5"
   ]
  },
  {
   "cell_type": "markdown",
   "id": "288d6221-fa92-4f18-a8c4-a732efb61829",
   "metadata": {},
   "source": [
    "Одна из возможных причин таких результатов может быть в размере выборок.\n",
    "Если размер выборки в первом эксперименте был достаточно большим, то даже небольшая разница между средними могла быть статистически значимой.\n",
    "Соответственно, если размер выборки во втором эксперименте был мал, то даже значительная разница могла не быть статистически значимой.\n",
    "\n",
    "Еще возможная причина - разные дисперсии.\n",
    "Если в первом эксперименте дисперсия была маленькой, то есть данные в выборках были сконцентрированы вокруг своих средних значений, то это могло повлиять на то, что небольшая разница между средними оказалась статистически значимой.\n",
    "Во втором же эксперименте при большой дисперсии данные в выборках могли быть сильно разбросаны, что сделало большую разницу между средними незначимой."
   ]
  },
  {
   "cell_type": "code",
   "execution_count": null,
   "id": "c8d4e010-7935-425f-b359-014c60bd814b",
   "metadata": {},
   "outputs": [],
   "source": []
  }
 ],
 "metadata": {
  "kernelspec": {
   "display_name": "Python 3 (ipykernel)",
   "language": "python",
   "name": "python3"
  },
  "language_info": {
   "codemirror_mode": {
    "name": "ipython",
    "version": 3
   },
   "file_extension": ".py",
   "mimetype": "text/x-python",
   "name": "python",
   "nbconvert_exporter": "python",
   "pygments_lexer": "ipython3",
   "version": "3.12.4"
  }
 },
 "nbformat": 4,
 "nbformat_minor": 5
}
